{
 "cells": [
  {
   "cell_type": "code",
   "execution_count": 49,
   "id": "3c3f5766-0dde-4b2c-ad92-176940a0ab8a",
   "metadata": {},
   "outputs": [],
   "source": [
    "#Question 1\n",
    "def checkPassword():\n",
    "    n=input(\"Enter your password\")\n",
    "    l=len(n)\n",
    "    countLower=0\n",
    "    countUpper=0\n",
    "    countDigit=0\n",
    "    countSpecialCharacter=0\n",
    "    for i in n:\n",
    "        if i.islower()==True:\n",
    "            countLower+=1\n",
    "        elif i.isupper()==True:\n",
    "            countUpper+=1\n",
    "        elif i.isdigit()==True:\n",
    "            countDigit+=1\n",
    "        elif i.isalpha()==False and i.isdigit()==False:\n",
    "            countSpecialCharacter+=1\n",
    "        else:\n",
    "            pass\n",
    "    # print(countLower)\n",
    "    # print(countUpper)\n",
    "    # print(countDigit)\n",
    "    # print(countSpecialCharacter)\n",
    "    # print(l)\n",
    "    if countLower>=2 and countUpper>=2 and countDigit>=1 and countSpecialCharacter>=3 and l>=10:\n",
    "        print(\"Valid Password\")\n",
    "    else:\n",
    "        print(\"Invalid Password\")\n",
    "   "
   ]
  },
  {
   "cell_type": "code",
   "execution_count": 50,
   "id": "32f1a06b-7741-47d7-863a-2ed7bd79086e",
   "metadata": {},
   "outputs": [
    {
     "name": "stdin",
     "output_type": "stream",
     "text": [
      "Enter your password Eden@123\n"
     ]
    },
    {
     "name": "stdout",
     "output_type": "stream",
     "text": [
      "Invalid Password\n"
     ]
    }
   ],
   "source": [
    "checkPassword()"
   ]
  },
  {
   "cell_type": "code",
   "execution_count": 5,
   "id": "3e7155c5-d593-4642-8bed-7fe417742e35",
   "metadata": {},
   "outputs": [
    {
     "data": {
      "text/plain": [
       "True"
      ]
     },
     "execution_count": 5,
     "metadata": {},
     "output_type": "execute_result"
    }
   ],
   "source": [
    "#Question 2\n",
    "\n",
    "#(i) Check if the string starts with a particular letter\n",
    "\n",
    "s=\"Haribansh wanta to become a data scientist\"\n",
    "bool(lambda s:s.startswith(\"Haribansh\"))\n",
    "\n"
   ]
  },
  {
   "cell_type": "code",
   "execution_count": 6,
   "id": "b92d362c-b1d5-4921-9711-00d05ff26505",
   "metadata": {},
   "outputs": [
    {
     "data": {
      "text/plain": [
       "True"
      ]
     },
     "execution_count": 6,
     "metadata": {},
     "output_type": "execute_result"
    }
   ],
   "source": [
    "#(ii) Check if the string is numeric\n",
    "s='1234'\n",
    "bool(lambda s:s.isnumeric())"
   ]
  },
  {
   "cell_type": "code",
   "execution_count": 4,
   "id": "b448f1d2-a266-46fa-aefc-56f026d094f5",
   "metadata": {},
   "outputs": [],
   "source": [
    "#(iii)Sort a list of tuples having fruit names and their quantity. [(\"mango\",99),(\"orange\",80), (\"grapes\", 1000).\n",
    "l=[(\"mango\",99),(\"orange\",80), (\"grapes\", 1000)]\n"
   ]
  },
  {
   "cell_type": "code",
   "execution_count": 14,
   "id": "46e146df-c4b0-4765-8bcd-8471411668d4",
   "metadata": {},
   "outputs": [
    {
     "data": {
      "text/plain": [
       "<function __main__.<lambda>(l)>"
      ]
     },
     "execution_count": 14,
     "metadata": {},
     "output_type": "execute_result"
    }
   ],
   "source": [
    "lambda l : l.sort()"
   ]
  },
  {
   "cell_type": "code",
   "execution_count": 15,
   "id": "1c35c5fb-cfe4-412b-92b1-078dfe66226b",
   "metadata": {},
   "outputs": [
    {
     "data": {
      "text/plain": [
       "[('grapes', 1000), ('mango', 99), ('orange', 80)]"
      ]
     },
     "execution_count": 15,
     "metadata": {},
     "output_type": "execute_result"
    }
   ],
   "source": [
    "l"
   ]
  },
  {
   "cell_type": "code",
   "execution_count": 17,
   "id": "7ed95eda-7a4b-4e1f-b07b-280f346eb8f3",
   "metadata": {},
   "outputs": [
    {
     "data": {
      "text/plain": [
       "[1, 4, 9, 16, 25, 36, 49, 64, 81, 100]"
      ]
     },
     "execution_count": 17,
     "metadata": {},
     "output_type": "execute_result"
    }
   ],
   "source": [
    "#(iv) Find the squares of numbers from 1 to 10\n",
    "l=list(range(1,11))\n",
    "list(map(lambda x : x**2,l))"
   ]
  },
  {
   "cell_type": "code",
   "execution_count": 18,
   "id": "c114f7a4-c870-4422-af6c-70775f8e3d3a",
   "metadata": {},
   "outputs": [
    {
     "data": {
      "text/plain": [
       "[1, 8, 27, 64, 125, 216, 343, 512, 729, 1000]"
      ]
     },
     "execution_count": 18,
     "metadata": {},
     "output_type": "execute_result"
    }
   ],
   "source": [
    "#(v) Find the cube root of numbers from 1 to 10.\n",
    "l=list(range(1,11))\n",
    "list(map(lambda x : x**3,l))"
   ]
  },
  {
   "cell_type": "code",
   "execution_count": 23,
   "id": "ad43087f-a24a-45f9-a3e3-d64e6dff89b8",
   "metadata": {},
   "outputs": [
    {
     "data": {
      "text/plain": [
       "[2, 68, 76, 4, 8]"
      ]
     },
     "execution_count": 23,
     "metadata": {},
     "output_type": "execute_result"
    }
   ],
   "source": [
    "#(vi) Check if a given number is even.\n",
    "l=[1,3,2,5,68,76,4,8,9]\n",
    "a=[x for x in l if x%2==0]\n",
    "a"
   ]
  },
  {
   "cell_type": "code",
   "execution_count": 25,
   "id": "92673f82-6959-46b1-9645-8f362ff204bc",
   "metadata": {},
   "outputs": [
    {
     "data": {
      "text/plain": [
       "[1, 3, 5, 7, 9]"
      ]
     },
     "execution_count": 25,
     "metadata": {},
     "output_type": "execute_result"
    }
   ],
   "source": [
    "#(vii) Filter odd numbers from the given list.\n",
    "l=[1,2,3,4,5,6,7,8,9,10]\n",
    "list(filter(lambda x :x%2!=0,l))"
   ]
  },
  {
   "cell_type": "code",
   "execution_count": 30,
   "id": "3ee86cb3-8cd0-48bf-8410-aeb42b5db9de",
   "metadata": {},
   "outputs": [
    {
     "data": {
      "text/plain": [
       "[-5, -4, -3, -2, -1, 1, 2, 3, 4, 5, 6]"
      ]
     },
     "execution_count": 30,
     "metadata": {},
     "output_type": "execute_result"
    }
   ],
   "source": [
    "#(viii) Sort a list of integers into positive and negative integers lists.\n",
    "l=[1,2,3,4,5,6,-1,-2,-3,-4,-5,0]\n",
    "list(filter(l.sort(),l))"
   ]
  },
  {
   "cell_type": "code",
   "execution_count": null,
   "id": "94f4fd5a-be93-4022-8855-5fa4c85f1a67",
   "metadata": {},
   "outputs": [],
   "source": []
  }
 ],
 "metadata": {
  "kernelspec": {
   "display_name": "Python 3 (ipykernel)",
   "language": "python",
   "name": "python3"
  },
  "language_info": {
   "codemirror_mode": {
    "name": "ipython",
    "version": 3
   },
   "file_extension": ".py",
   "mimetype": "text/x-python",
   "name": "python",
   "nbconvert_exporter": "python",
   "pygments_lexer": "ipython3",
   "version": "3.10.8"
  }
 },
 "nbformat": 4,
 "nbformat_minor": 5
}
