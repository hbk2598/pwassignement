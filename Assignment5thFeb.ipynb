{
 "cells": [
  {
   "cell_type": "code",
   "execution_count": 2,
   "id": "43dcdb90-a81a-4552-bd13-14da2e279e77",
   "metadata": {},
   "outputs": [],
   "source": [
    "#Question 1\n",
    "'''A class is considered as a blueprint of objects. Class contains all the details of the object\n",
    "We can create as many object as possible from a class'''\n",
    "#Example\n",
    "class student:\n",
    "    name='hari'\n",
    "    age=23\n",
    "    "
   ]
  },
  {
   "cell_type": "code",
   "execution_count": 3,
   "id": "5a9dcecf-5ee6-4d0a-ab38-d671fdc0d11f",
   "metadata": {},
   "outputs": [],
   "source": [
    "'''An object is called an instance of a class'''\n",
    "#Example\n",
    "a=student()\n"
   ]
  },
  {
   "cell_type": "code",
   "execution_count": null,
   "id": "09dc10d2-d952-4efd-bcd9-e27f6625cb06",
   "metadata": {},
   "outputs": [],
   "source": [
    "#Question 2\n",
    "''' The four pillars of python are\n",
    "1. Polymorphism-> The condition of occurrence in several different forms.\n",
    "2. Encapsulation-> To enclose something in or as if in a capsule. \n",
    "3. Inheritence-> To receive a quality, characteristic, etc., from your parents or family.\n",
    "4. Abstraction-> A general idea rather than one that relates to a particular object, person, or situation.'''"
   ]
  },
  {
   "cell_type": "code",
   "execution_count": null,
   "id": "8b7ec15d-5582-4f8f-a4cb-5af2ab1489ac",
   "metadata": {},
   "outputs": [],
   "source": [
    "#Question 3\n",
    "'''The special method __init__ is the Python constructor which calls automatically whenever we create\n",
    "object of the class.The __init__ method lets the class initialize the object’s attributes and serves no other purpose.\n",
    "It is only used within classes.'''"
   ]
  },
  {
   "cell_type": "code",
   "execution_count": null,
   "id": "c07d14a2-887f-4eff-b948-96d815ed050c",
   "metadata": {},
   "outputs": [],
   "source": [
    "#Question 4\n",
    "'''The self parameter is a reference to the current instance of the class, and is used to access variables that belongs to the class.\n",
    "It does not have to be named self , you can call it whatever you like, but it has to be the first parameter of any function in the class.'''"
   ]
  },
  {
   "cell_type": "code",
   "execution_count": 5,
   "id": "eb7086a4-74ba-468b-8be0-9448234e9aea",
   "metadata": {},
   "outputs": [
    {
     "name": "stdout",
     "output_type": "stream",
     "text": [
      "I can eat\n",
      "My name is  Rohu\n"
     ]
    }
   ],
   "source": [
    "#Question 5\n",
    "'''Inheritance allows us to create a new class from an existing class.The new class that is created is known as subclass (child or derived class)\n",
    "and the existing class from which the child class is derived is known as superclass (parent or base class).'''\n",
    "\n",
    "#Example\n",
    "class Animal:\n",
    "\n",
    "    # attribute and method of the parent class\n",
    "    name = \"Harry\"\n",
    "    \n",
    "    def eat(self):\n",
    "        print(\"I can eat\")\n",
    "\n",
    "# inherit from Animal\n",
    "class Dog(Animal):\n",
    "\n",
    "    # new method in subclass\n",
    "    def display(self):\n",
    "        # access name attribute of superclass using self\n",
    "        print(\"My name is \", self.name)\n",
    "\n",
    "# create an object of the subclass\n",
    "labrador = Dog()\n",
    "\n",
    "# access superclass attribute and method \n",
    "labrador.name = \"Rohu\"\n",
    "labrador.eat()\n",
    "\n",
    "# call subclass method \n",
    "labrador.display()"
   ]
  },
  {
   "cell_type": "code",
   "execution_count": null,
   "id": "6d3dae58-9d0a-411c-b27f-1e9781380302",
   "metadata": {},
   "outputs": [],
   "source": []
  }
 ],
 "metadata": {
  "kernelspec": {
   "display_name": "Python 3 (ipykernel)",
   "language": "python",
   "name": "python3"
  },
  "language_info": {
   "codemirror_mode": {
    "name": "ipython",
    "version": 3
   },
   "file_extension": ".py",
   "mimetype": "text/x-python",
   "name": "python",
   "nbconvert_exporter": "python",
   "pygments_lexer": "ipython3",
   "version": "3.10.8"
  }
 },
 "nbformat": 4,
 "nbformat_minor": 5
}
