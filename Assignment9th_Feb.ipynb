{
 "cells": [
  {
   "cell_type": "code",
   "execution_count": 48,
   "id": "8fb0e836-f710-40b0-af60-dce7a41c41a4",
   "metadata": {},
   "outputs": [],
   "source": [
    "#Question 1\n",
    "class vehicle:\n",
    "    def __init__ (self,name_of_vehicle,max_speed,average):\n",
    "        self.name_of_vehicle=name_of_vehicle\n",
    "        self.max_speed=max_speed\n",
    "        self.average=average"
   ]
  },
  {
   "cell_type": "code",
   "execution_count": 49,
   "id": "8793317a-da35-4cec-bcfd-8980a67a37bf",
   "metadata": {},
   "outputs": [],
   "source": [
    "b=vehicle('Nexon',140,35)"
   ]
  },
  {
   "cell_type": "code",
   "execution_count": 50,
   "id": "2f9a23d5-0196-47b1-a44b-499d977eecc9",
   "metadata": {},
   "outputs": [
    {
     "data": {
      "text/plain": [
       "'Nexon'"
      ]
     },
     "execution_count": 50,
     "metadata": {},
     "output_type": "execute_result"
    }
   ],
   "source": [
    "b.name_of_vehicle"
   ]
  },
  {
   "cell_type": "code",
   "execution_count": 51,
   "id": "06e2de69-4245-4092-8cd2-97c8f132bcaf",
   "metadata": {},
   "outputs": [
    {
     "data": {
      "text/plain": [
       "140"
      ]
     },
     "execution_count": 51,
     "metadata": {},
     "output_type": "execute_result"
    }
   ],
   "source": [
    "b.max_speed\n"
   ]
  },
  {
   "cell_type": "code",
   "execution_count": 63,
   "id": "c712c1d9-f272-4b33-8d24-559866eef1da",
   "metadata": {},
   "outputs": [],
   "source": [
    "#Question 2\n",
    "\n",
    "class car(vehicle):\n",
    "    def seating_capacity(self,capacity):\n",
    "        self.capacity=capacity\n",
    "        return self.name_of_vehicle,self.capacity"
   ]
  },
  {
   "cell_type": "code",
   "execution_count": 64,
   "id": "39e8eb59-6be3-4376-9991-90cf81931c00",
   "metadata": {},
   "outputs": [],
   "source": [
    "a=car('Nexon',140,35)"
   ]
  },
  {
   "cell_type": "code",
   "execution_count": 65,
   "id": "3d4dfaad-7e36-431a-a478-8403f97b0606",
   "metadata": {},
   "outputs": [
    {
     "data": {
      "text/plain": [
       "('Nexon', 5)"
      ]
     },
     "execution_count": 65,
     "metadata": {},
     "output_type": "execute_result"
    }
   ],
   "source": [
    "a.seating_capacity(5)"
   ]
  },
  {
   "cell_type": "code",
   "execution_count": 66,
   "id": "2de5a6d3-47f7-44ca-ba8c-cd0337f43946",
   "metadata": {},
   "outputs": [
    {
     "data": {
      "text/plain": [
       "140"
      ]
     },
     "execution_count": 66,
     "metadata": {},
     "output_type": "execute_result"
    }
   ],
   "source": [
    "a.max_speed"
   ]
  },
  {
   "cell_type": "code",
   "execution_count": 71,
   "id": "120379d0-7394-442a-8157-558f62f5498e",
   "metadata": {},
   "outputs": [],
   "source": [
    "#Question 3\n",
    "'''When a class is derived from more than one base class it is called multiple Inheritance.\n",
    "The derived class inherits all the features of the base case.'''\n",
    "\n",
    "class base1:\n",
    "    def m1(self):\n",
    "        print(\"Hello\")\n",
    "        \n",
    "class base2:\n",
    "    def m2(self):\n",
    "        print(\"Good evening\")\n",
    "        \n",
    "class child(base1,base2):\n",
    "    def m3(self):\n",
    "        print(\"Good afternoon\")"
   ]
  },
  {
   "cell_type": "code",
   "execution_count": 72,
   "id": "047dcc10-9caf-4779-a5b2-b1bfd9412e3f",
   "metadata": {},
   "outputs": [],
   "source": [
    "a=child()"
   ]
  },
  {
   "cell_type": "code",
   "execution_count": 73,
   "id": "a7bf96d7-f188-434b-bacb-fc467e15752d",
   "metadata": {},
   "outputs": [
    {
     "name": "stdout",
     "output_type": "stream",
     "text": [
      "Good evening\n"
     ]
    }
   ],
   "source": [
    "a.m2()"
   ]
  },
  {
   "cell_type": "code",
   "execution_count": 86,
   "id": "f7aa59b3-f3ff-4c76-88db-0e7ccc758673",
   "metadata": {},
   "outputs": [],
   "source": [
    "#Question 4\n",
    "'''We use getters & setters to add validation logic around getting and setting a value.\n",
    "To avoid direct access of a class field i.e. private variables cannot be accessed directly or modified by external user.'''\n",
    "\n",
    "class student:\n",
    "    def __init__(self,name,age):\n",
    "        self.name=name\n",
    "        self._age=age\n",
    "    \n",
    "    def get_age(self):\n",
    "        return self._age\n",
    "    \n",
    "    def set_age(self,x):\n",
    "        self._age=x\n",
    "        \n",
    "        "
   ]
  },
  {
   "cell_type": "code",
   "execution_count": 90,
   "id": "2289eb04-aa80-4ed8-ac7a-66a8aa179ecd",
   "metadata": {},
   "outputs": [],
   "source": [
    "a=student('Lyon',56)\n"
   ]
  },
  {
   "cell_type": "code",
   "execution_count": 91,
   "id": "fa2b8e84-8fa2-476d-b56c-cbb21ccf585d",
   "metadata": {},
   "outputs": [],
   "source": [
    "a.set_age(23)"
   ]
  },
  {
   "cell_type": "code",
   "execution_count": 92,
   "id": "c4927d70-7b87-420f-ba02-9c0d14eb4258",
   "metadata": {},
   "outputs": [
    {
     "data": {
      "text/plain": [
       "23"
      ]
     },
     "execution_count": 92,
     "metadata": {},
     "output_type": "execute_result"
    }
   ],
   "source": [
    "a.get_age()"
   ]
  },
  {
   "cell_type": "code",
   "execution_count": null,
   "id": "a27b3c51-58ed-4dd2-af8d-06356319a775",
   "metadata": {},
   "outputs": [],
   "source": [
    "#Question 5"
   ]
  }
 ],
 "metadata": {
  "kernelspec": {
   "display_name": "Python 3 (ipykernel)",
   "language": "python",
   "name": "python3"
  },
  "language_info": {
   "codemirror_mode": {
    "name": "ipython",
    "version": 3
   },
   "file_extension": ".py",
   "mimetype": "text/x-python",
   "name": "python",
   "nbconvert_exporter": "python",
   "pygments_lexer": "ipython3",
   "version": "3.10.8"
  }
 },
 "nbformat": 4,
 "nbformat_minor": 5
}
