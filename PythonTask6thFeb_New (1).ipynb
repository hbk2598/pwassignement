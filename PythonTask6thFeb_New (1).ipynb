{
 "cells": [
  {
   "cell_type": "code",
   "execution_count": 3,
   "id": "af0f6e04-f842-4c62-9a93-a6c820391079",
   "metadata": {},
   "outputs": [],
   "source": [
    "def is_integer(x):\n",
    "    return not isinstance(x, bool) and isinstance(x, int)\n",
    "\n",
    "def get_numbers(o):\n",
    "    if isinstance(o, dict):\n",
    "        for k, v in o.items():\n",
    "            if is_integer(k):\n",
    "                yield k\n",
    "            yield from get_numbers(v)\n",
    "    elif isinstance(o, (list, tuple, set)):\n",
    "        for v in o:\n",
    "            if is_integer(v):\n",
    "                yield v\n",
    "            else:\n",
    "                yield from get_numbers(v)\n",
    "    else:\n",
    "        if is_integer(o):\n",
    "            yield o\n",
    "\n",
    "            \n",
    "    "
   ]
  },
  {
   "cell_type": "code",
   "execution_count": 4,
   "id": "93004052-2e17-4678-b1c5-7ece28b63822",
   "metadata": {},
   "outputs": [],
   "source": [
    "list1 = [\n",
    "    1,\n",
    "    2,\n",
    "    3,\n",
    "    4,\n",
    "    [44, 55, 66, True],\n",
    "    False,\n",
    "    (34, 56, 78, 89, 34),\n",
    "    {1, 2, 3, 3, 2, 1},\n",
    "    {1: 34, \"key2\": [55, 67, 78, 89], 4: (45, 22, 61, 34)},\n",
    "    [56, \"data science\"],\n",
    "    \"Machine Learning\",\n",
    "]"
   ]
  },
  {
   "cell_type": "code",
   "execution_count": 14,
   "id": "46a01d96-f98b-460c-a661-6128dd7ad9b8",
   "metadata": {},
   "outputs": [],
   "source": [
    "z=[]\n",
    "z=list(get_numbers(list1))"
   ]
  },
  {
   "cell_type": "code",
   "execution_count": 16,
   "id": "e7372804-8390-4aa1-bf4d-69ead330b44b",
   "metadata": {},
   "outputs": [
    {
     "name": "stdout",
     "output_type": "stream",
     "text": [
      "[1, 2, 3, 4, 44, 55, 66, 34, 56, 78, 89, 34, 1, 2, 3, 1, 34, 55, 67, 78, 89, 4, 45, 22, 61, 34, 56]\n",
      "4134711838987085478833841242112000\n"
     ]
    }
   ],
   "source": [
    "print(z)\n",
    "from functools import reduce\n",
    "    \n",
    "print(reduce(lambda x,y:x*y,z))"
   ]
  },
  {
   "cell_type": "code",
   "execution_count": 17,
   "id": "55a211d3-a1ca-4869-b3af-a9cc67edc46e",
   "metadata": {},
   "outputs": [],
   "source": [
    "#Question 2\n",
    "def encryption(message):\n",
    "    message=message.lower()\n",
    "    encr_map={'a': 'z', 'b': 'y', 'c': 'x', 'd': 'w', 'e': 'v', 'f': 'u',\n",
    "                      'g': 't', 'h': 's', 'i': 'r', 'j': 'q', 'k': 'p', 'l': 'o',\n",
    "                      'm': 'n', 'n': 'm', 'o': 'l', 'p': 'k', 'q': 'j', 'r': 'i',\n",
    "                      's': 'h', 't': 'g', 'u': 'f', 'v': 'e', 'w': 'd', 'x': 'c',\n",
    "                      'y': 'b', 'z': 'a', ' ': '$'}\n",
    "    encr_message=\"\"\n",
    "    for letter in message:\n",
    "        if letter in encr_map:\n",
    "            encr_message=encr_message+encr_map[letter]\n",
    "            \n",
    "        else:\n",
    "            encr_msg=letter\n",
    "    return encr_message"
   ]
  },
  {
   "cell_type": "code",
   "execution_count": 18,
   "id": "1e1b2cb1-91bd-4d10-a482-c2df07300955",
   "metadata": {},
   "outputs": [
    {
     "data": {
      "text/plain": [
       "'r$dzmg$gl$yvxlnv$z$wzgz$hxrvmgrhg'"
      ]
     },
     "execution_count": 18,
     "metadata": {},
     "output_type": "execute_result"
    }
   ],
   "source": [
    "encryption(\"I want to become a data scientist\")"
   ]
  },
  {
   "cell_type": "code",
   "execution_count": null,
   "id": "54f3535f-22f2-4f81-a1ba-ed4bb8ca095d",
   "metadata": {},
   "outputs": [],
   "source": []
  }
 ],
 "metadata": {
  "kernelspec": {
   "display_name": "Python 3 (ipykernel)",
   "language": "python",
   "name": "python3"
  },
  "language_info": {
   "codemirror_mode": {
    "name": "ipython",
    "version": 3
   },
   "file_extension": ".py",
   "mimetype": "text/x-python",
   "name": "python",
   "nbconvert_exporter": "python",
   "pygments_lexer": "ipython3",
   "version": "3.10.8"
  }
 },
 "nbformat": 4,
 "nbformat_minor": 5
}
