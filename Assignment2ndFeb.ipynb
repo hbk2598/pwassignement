{
 "cells": [
  {
   "cell_type": "code",
   "execution_count": null,
   "id": "09a6385a-7576-481e-abc2-1a1b75d9ffa7",
   "metadata": {},
   "outputs": [],
   "source": [
    "#Question1\n",
    "'''ForLoop :- Use a for loop when you know the loop should execute n times. Use a while loop for reading a file into a variable.\n",
    "Use a while loop when asking for user input. Use a while loop when the increment value is nonstandard.\n",
    "Example of both the loops is in Question2'''"
   ]
  },
  {
   "cell_type": "code",
   "execution_count": 1,
   "id": "65915f0e-99e5-4622-b597-cb128fc73367",
   "metadata": {},
   "outputs": [
    {
     "name": "stdout",
     "output_type": "stream",
     "text": [
      "45\n",
      "362880\n"
     ]
    }
   ],
   "source": [
    "#Question2 using for loop\n",
    "sum=0\n",
    "product=1\n",
    "for i in range(1,10):\n",
    "    sum=sum+i\n",
    "    product=product*i\n",
    "print(sum)\n",
    "print(product)"
   ]
  },
  {
   "cell_type": "code",
   "execution_count": 2,
   "id": "0b5675e9-e72b-4907-9f93-06eadecb26f7",
   "metadata": {},
   "outputs": [
    {
     "name": "stdout",
     "output_type": "stream",
     "text": [
      "45\n",
      "362880\n"
     ]
    }
   ],
   "source": [
    "#Question2 using with loop\n",
    "sum=0\n",
    "product=1\n",
    "i=1\n",
    "while i<10:\n",
    "  sum=sum+i\n",
    "  product=product*i\n",
    "  i=i+1\n",
    "print(sum) \n",
    "print(product)"
   ]
  },
  {
   "cell_type": "code",
   "execution_count": 5,
   "id": "9775c5e4-0951-4d56-b5e2-6d8959787e26",
   "metadata": {},
   "outputs": [
    {
     "name": "stdin",
     "output_type": "stream",
     "text": [
      "Enter the units of electricity consumed 310\n"
     ]
    }
   ],
   "source": [
    "#Question3\n",
    "unit=int(input(\"Enter the units of electricity consumed\"))"
   ]
  },
  {
   "cell_type": "code",
   "execution_count": 6,
   "id": "cc98ac1c-ebea-4fd8-979f-96d191f0aa1a",
   "metadata": {},
   "outputs": [
    {
     "name": "stdout",
     "output_type": "stream",
     "text": [
      "2250.0\n"
     ]
    }
   ],
   "source": [
    "bill=0\n",
    "if unit<=100:\n",
    "    bill=unit*4.5\n",
    "    \n",
    "elif unit>100 and unit<=200:\n",
    "    bill=100*4.5+(unit-100)*6\n",
    "    \n",
    "elif unit>200 and unit<=300:\n",
    "    bill=100*4.5+100*6+(unit-200)*10\n",
    "    \n",
    "else:\n",
    "    bill=100*4.5+100*6+100*10+(unit-300)*20\n",
    "    \n",
    "print(bill)"
   ]
  },
  {
   "cell_type": "code",
   "execution_count": 13,
   "id": "762a725b-6d02-4cf8-ba4f-7f813bd2d7f6",
   "metadata": {},
   "outputs": [],
   "source": [
    "#Question4 using for loop\n",
    "l1=list(range(1,6))"
   ]
  },
  {
   "cell_type": "code",
   "execution_count": 14,
   "id": "59318c28-e4cc-4d25-9d0b-8f99743408df",
   "metadata": {},
   "outputs": [],
   "source": [
    "l2=[]\n",
    "for i in l1:\n",
    "    l2.append(i*i*i)"
   ]
  },
  {
   "cell_type": "code",
   "execution_count": 16,
   "id": "bd45db8b-a6f6-408b-8923-7cfccdd4d244",
   "metadata": {},
   "outputs": [
    {
     "name": "stdout",
     "output_type": "stream",
     "text": [
      "[1, 8, 27, 64, 125]\n"
     ]
    }
   ],
   "source": [
    "print(l2)"
   ]
  },
  {
   "cell_type": "code",
   "execution_count": 17,
   "id": "0332ff8b-d16e-4fb3-a4df-9eca2a79018e",
   "metadata": {},
   "outputs": [],
   "source": [
    "#Question4 using while loop\n",
    "l3=list(range(1,6))"
   ]
  },
  {
   "cell_type": "code",
   "execution_count": 19,
   "id": "d381193e-9d85-4429-9034-a77a0df6514c",
   "metadata": {},
   "outputs": [],
   "source": [
    "x=len(l3)"
   ]
  },
  {
   "cell_type": "code",
   "execution_count": 20,
   "id": "f1237896-06c8-4e75-a4f4-0f65bc24add9",
   "metadata": {},
   "outputs": [
    {
     "data": {
      "text/plain": [
       "5"
      ]
     },
     "execution_count": 20,
     "metadata": {},
     "output_type": "execute_result"
    }
   ],
   "source": [
    "x"
   ]
  },
  {
   "cell_type": "code",
   "execution_count": 28,
   "id": "4e569061-849c-4276-b2db-2c963acce058",
   "metadata": {},
   "outputs": [],
   "source": [
    "l4=[]\n",
    "y=0\n",
    "while y<x:\n",
    "    l4.append(l3[y]*l3[y]*l3[y])\n",
    "    y=y+1\n",
    "    \n"
   ]
  },
  {
   "cell_type": "code",
   "execution_count": 29,
   "id": "daafe1dc-5dcb-48bd-a979-61820f3fadf9",
   "metadata": {},
   "outputs": [
    {
     "data": {
      "text/plain": [
       "[1, 8, 27, 64, 125]"
      ]
     },
     "execution_count": 29,
     "metadata": {},
     "output_type": "execute_result"
    }
   ],
   "source": [
    "print(l4)"
   ]
  },
  {
   "cell_type": "code",
   "execution_count": 1,
   "id": "89165a93-2b29-4ee1-b5e4-af48fa21aaf5",
   "metadata": {},
   "outputs": [],
   "source": [
    "#Question5 \n",
    "s=\"I want to become data scientist\""
   ]
  },
  {
   "cell_type": "code",
   "execution_count": 7,
   "id": "ce9e449a-0020-47b9-bb02-e954a299605e",
   "metadata": {},
   "outputs": [],
   "source": [
    "l=[]\n",
    "for i in s:\n",
    "    if i in ['a','e','i','o','u']:\n",
    "        l.append(i)\n",
    "    pass"
   ]
  },
  {
   "cell_type": "code",
   "execution_count": 8,
   "id": "dee61c48-3a34-4a67-8150-707c963e4ada",
   "metadata": {},
   "outputs": [
    {
     "data": {
      "text/plain": [
       "['a', 'o', 'e', 'o', 'e', 'a', 'a', 'i', 'e', 'i']"
      ]
     },
     "execution_count": 8,
     "metadata": {},
     "output_type": "execute_result"
    }
   ],
   "source": [
    "l"
   ]
  },
  {
   "cell_type": "code",
   "execution_count": 11,
   "id": "0b9ab435-4e63-4b9f-b495-ca3f0cd0591e",
   "metadata": {},
   "outputs": [
    {
     "data": {
      "text/plain": [
       "10"
      ]
     },
     "execution_count": 11,
     "metadata": {},
     "output_type": "execute_result"
    }
   ],
   "source": [
    "len(l)"
   ]
  },
  {
   "cell_type": "code",
   "execution_count": null,
   "id": "18c6e41c-d35f-46f8-a9d0-c30f071a235b",
   "metadata": {},
   "outputs": [],
   "source": [
    "print(f\"The number of vowels in given string is {}"
   ]
  }
 ],
 "metadata": {
  "kernelspec": {
   "display_name": "Python 3 (ipykernel)",
   "language": "python",
   "name": "python3"
  },
  "language_info": {
   "codemirror_mode": {
    "name": "ipython",
    "version": 3
   },
   "file_extension": ".py",
   "mimetype": "text/x-python",
   "name": "python",
   "nbconvert_exporter": "python",
   "pygments_lexer": "ipython3",
   "version": "3.10.8"
  }
 },
 "nbformat": 4,
 "nbformat_minor": 5
}
