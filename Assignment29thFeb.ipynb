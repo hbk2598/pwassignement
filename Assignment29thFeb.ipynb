{
 "cells": [
  {
   "cell_type": "code",
   "execution_count": null,
   "id": "81dfb2bf-d3ec-48c4-9045-0f63cef8bbd4",
   "metadata": {},
   "outputs": [],
   "source": [
    "1. Guido van Rossum developed Python in 1970s\n",
    "\n",
    "2. Object oriented programming and Structured programming are fully supported.\n",
    "\n",
    "3. Yes Python is a case sensitive language and this applies to identifiers as well.\n",
    "\n",
    "4. .py\n",
    "\n",
    "5. Python is an interpreted language.\n",
    "\n",
    "6. Identation is used to define a block of code in python.\n",
    "\n",
    "7. '#' is used to comment single libe in python program.\n",
    "\n",
    "8. The function sys.version can help us to find the version of python that we are currently working on.\n",
    "\n",
    "9. lambda\n",
    "\n",
    "10. Preferred installer program.\n",
    "\n",
    "11. print(), type(), inp(), max(), pow()\n",
    "\n",
    "12. 79 characters\n",
    "\n",
    "13. Benfits of using Python language are it's flexibility, Ease of comprehension,used in many industries, extensive support libraries,\n",
    "    (NumPy for numerical calculations ,Pandas for data analytics, etc),object oriented and procedural language.\n",
    "    \n",
    "14. Python uses a portion of the memory for internal use and non-object memory. Another part of the memory is used for Python object such as int, dict, list, etc.\n",
    "    CPython contains the object allocator that allocates memory within the object area.\n",
    "    The object allocator gets a call every time the new object needs space.\n",
    "    \n",
    "15."
   ]
  }
 ],
 "metadata": {
  "kernelspec": {
   "display_name": "Python 3 (ipykernel)",
   "language": "python",
   "name": "python3"
  },
  "language_info": {
   "codemirror_mode": {
    "name": "ipython",
    "version": 3
   },
   "file_extension": ".py",
   "mimetype": "text/x-python",
   "name": "python",
   "nbconvert_exporter": "python",
   "pygments_lexer": "ipython3",
   "version": "3.10.8"
  }
 },
 "nbformat": 4,
 "nbformat_minor": 5
}
