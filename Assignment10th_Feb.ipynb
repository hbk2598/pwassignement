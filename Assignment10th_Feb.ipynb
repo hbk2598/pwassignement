{
 "cells": [
  {
   "cell_type": "code",
   "execution_count": null,
   "id": "e9420cb5-9696-446e-9bb2-bbb8c3929246",
   "metadata": {},
   "outputs": [],
   "source": [
    "#Question 1\n",
    "'''open() method is used to open a file. There are 6 different modes to open the file.\n",
    "1.Read Only (‘r’) : Open text file for reading. The handle is positioned at the beginning of the file. If the file does not exists, raises the I/O error. This is also the default mode in which a file is opened.\n",
    "2.Read and Write (‘r+’): Open the file for reading and writing. The handle is positioned at the beginning of the file. Raises I/O error if the file does not exist.\n",
    "3.Write Only (‘w’) : Open the file for writing. For the existing files, the data is truncated and over-written. The handle is positioned at the beginning of the file. Creates the file if the file does not exist.\n",
    "4.Write and Read (‘w+’) : Open the file for reading and writing. For an existing file, data is truncated and over-written. The handle is positioned at the beginning of the file.\n",
    "5.Append Only (‘a’): Open the file for writing. The file is created if it does not exist. The handle is positioned at the end of the file. The data being written will be inserted at the end, after the existing data.\n",
    "6.Append and Read (‘a+’) : Open the file for reading and writing. The file is created if it does not exist. The handle is positioned at the end of the file. The data being written will be inserted at the end, after the existing data.'''"
   ]
  },
  {
   "cell_type": "code",
   "execution_count": null,
   "id": "9f9f5ef1-451e-4204-a412-99e64e69929c",
   "metadata": {},
   "outputs": [],
   "source": [
    "#Question 2\n",
    "'''The close() method closes an open file.\n",
    "You should always close your files, in some cases, due to buffering, changes made to a file may not show until you close the file.'''"
   ]
  },
  {
   "cell_type": "code",
   "execution_count": 1,
   "id": "84419165-b1d4-4bac-8284-2cd3c4534c75",
   "metadata": {},
   "outputs": [],
   "source": [
    "#Question 3\n",
    "f=open(\"assignment.txt\",'w')"
   ]
  },
  {
   "cell_type": "code",
   "execution_count": 2,
   "id": "cad540b9-9f2a-4cde-b3ef-e6ed883233d7",
   "metadata": {},
   "outputs": [
    {
     "data": {
      "text/plain": [
       "26"
      ]
     },
     "execution_count": 2,
     "metadata": {},
     "output_type": "execute_result"
    }
   ],
   "source": [
    "f.write(\"This is my assignment task\")"
   ]
  },
  {
   "cell_type": "code",
   "execution_count": 3,
   "id": "da973644-48c3-4eae-8e72-2058a5957502",
   "metadata": {},
   "outputs": [],
   "source": [
    "f.close()"
   ]
  },
  {
   "cell_type": "code",
   "execution_count": 4,
   "id": "f1a57780-c4c8-4357-a6cd-251c16b57b00",
   "metadata": {},
   "outputs": [],
   "source": [
    "f=open(\"assignment.txt\",'r')"
   ]
  },
  {
   "cell_type": "code",
   "execution_count": 5,
   "id": "c6196f13-b45c-4615-aad2-bc534711e7e9",
   "metadata": {},
   "outputs": [
    {
     "data": {
      "text/plain": [
       "'This is my assignment task'"
      ]
     },
     "execution_count": 5,
     "metadata": {},
     "output_type": "execute_result"
    }
   ],
   "source": [
    "f.read()"
   ]
  },
  {
   "cell_type": "code",
   "execution_count": 19,
   "id": "34dd6178-df74-4946-a4c6-cd329ca4e0a9",
   "metadata": {},
   "outputs": [],
   "source": [
    "#Question 4\n",
    "f.close()"
   ]
  },
  {
   "cell_type": "code",
   "execution_count": 20,
   "id": "4cf7bcb8-7966-4085-a92c-843acaa6d25a",
   "metadata": {},
   "outputs": [],
   "source": [
    "f=open(\"assignment.txt\",'w')"
   ]
  },
  {
   "cell_type": "code",
   "execution_count": 18,
   "id": "b3318f36-8786-40c3-a20a-7d8ef00645ae",
   "metadata": {},
   "outputs": [],
   "source": [
    "entry=  [\"This is my second line\\n\",\"This is my third line\\n\",\"This is my fourth line\\n\"]"
   ]
  },
  {
   "cell_type": "code",
   "execution_count": 22,
   "id": "f7a1cdf2-67bf-40a8-a3c7-51543aac5297",
   "metadata": {},
   "outputs": [],
   "source": [
    "f.writelines(entry)"
   ]
  },
  {
   "cell_type": "code",
   "execution_count": 23,
   "id": "a842ba08-cdcf-4500-a46c-89faa257d12a",
   "metadata": {},
   "outputs": [],
   "source": [
    "f.close()"
   ]
  },
  {
   "cell_type": "code",
   "execution_count": 24,
   "id": "e2b91a36-b5f5-4968-ac47-9035219b630e",
   "metadata": {},
   "outputs": [],
   "source": [
    "f=open(\"assignment.txt\",'r')"
   ]
  },
  {
   "cell_type": "code",
   "execution_count": 25,
   "id": "bcee0fa5-4453-40ee-a1e2-f2e9a84d1503",
   "metadata": {},
   "outputs": [
    {
     "data": {
      "text/plain": [
       "'This is my second line\\nThis is my third line\\nThis is my fourth line\\n'"
      ]
     },
     "execution_count": 25,
     "metadata": {},
     "output_type": "execute_result"
    }
   ],
   "source": [
    "f.read()"
   ]
  },
  {
   "cell_type": "code",
   "execution_count": 29,
   "id": "dc508cd9-3706-4393-a7b7-cc81ca5377ec",
   "metadata": {},
   "outputs": [
    {
     "data": {
      "text/plain": [
       "0"
      ]
     },
     "execution_count": 29,
     "metadata": {},
     "output_type": "execute_result"
    }
   ],
   "source": [
    "f.seek(0)"
   ]
  },
  {
   "cell_type": "code",
   "execution_count": 27,
   "id": "40781e01-df42-4033-87aa-d1556c54aa8c",
   "metadata": {},
   "outputs": [
    {
     "data": {
      "text/plain": [
       "'This is my second line\\n'"
      ]
     },
     "execution_count": 27,
     "metadata": {},
     "output_type": "execute_result"
    }
   ],
   "source": [
    "f.readline()"
   ]
  },
  {
   "cell_type": "code",
   "execution_count": 30,
   "id": "8d8802ff-6a3d-483c-8031-948999eef6fa",
   "metadata": {},
   "outputs": [
    {
     "data": {
      "text/plain": [
       "['This is my second line\\n',\n",
       " 'This is my third line\\n',\n",
       " 'This is my fourth line\\n']"
      ]
     },
     "execution_count": 30,
     "metadata": {},
     "output_type": "execute_result"
    }
   ],
   "source": [
    "f.readlines()"
   ]
  },
  {
   "cell_type": "code",
   "execution_count": null,
   "id": "6ee6af22-5424-4b13-893f-e58d446b8fbc",
   "metadata": {},
   "outputs": [],
   "source": [
    "#Question5\n",
    "'''When we use with statement with open we don't have to close the file everytime to reflect the changes\n",
    "This is because the with statement calls 2 built-in methods behind the scene – __enter()__ and __exit()__ .'''"
   ]
  },
  {
   "cell_type": "code",
   "execution_count": null,
   "id": "a559f38c-a1e9-4f41-9e92-276f41328e88",
   "metadata": {},
   "outputs": [],
   "source": [
    "#Question 6\n",
    "'''The write() function will write the content in the file without adding any extra characters.\n",
    "Thi writlines() function writes the content of a list to a file.'''"
   ]
  }
 ],
 "metadata": {
  "kernelspec": {
   "display_name": "Python 3 (ipykernel)",
   "language": "python",
   "name": "python3"
  },
  "language_info": {
   "codemirror_mode": {
    "name": "ipython",
    "version": 3
   },
   "file_extension": ".py",
   "mimetype": "text/x-python",
   "name": "python",
   "nbconvert_exporter": "python",
   "pygments_lexer": "ipython3",
   "version": "3.10.8"
  }
 },
 "nbformat": 4,
 "nbformat_minor": 5
}
