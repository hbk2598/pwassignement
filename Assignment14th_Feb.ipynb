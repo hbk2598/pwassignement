{
 "cells": [
  {
   "cell_type": "code",
   "execution_count": null,
   "id": "47e8ff7b-b277-48d4-be59-f6fc1cfcb974",
   "metadata": {},
   "outputs": [],
   "source": [
    "#Question 1\n",
    "'''Multithreading refers to concurrently executing multiple threads by rapidly switching the control of the CPU between threads\n",
    "\n",
    "Multithreading allows the programmer to divide application tasks into sub-tasks and simultaneously run them in a program.\n",
    "It allows threads to communicate and share resources such as files, data, and memory to the same processor.\n",
    "\n",
    "Threading module is used to handle threads in python '''\n"
   ]
  },
  {
   "cell_type": "code",
   "execution_count": null,
   "id": "9e7956c3-e539-4df0-afce-947c6bcbb186",
   "metadata": {},
   "outputs": [],
   "source": [
    "#Question 2\n",
    "'''The threading module is a high-level implementation of multithreading used to deploy an application in Python.\n",
    "1.threading.activeCount() − Returns the number of thread objects that are active.\n",
    "2.threading.currentThread() − Returns the number of thread objects in the caller's thread control.\n",
    "3.threading.enumerate() − Returns a list of all thread objects that are currently active.'''"
   ]
  },
  {
   "cell_type": "code",
   "execution_count": null,
   "id": "80ba2e47-505d-4acd-b864-28895652bb1e",
   "metadata": {},
   "outputs": [],
   "source": [
    "#Question 3\n",
    "'''\n",
    "1. run():- A run() method is used to define a thread's activity and can be overridden by a class that extends the threads class.\n",
    "2. start():- A start() method is used to initiate the activity of a thread. And it calls only once for each thread so that the execution of the thread can begin.\n",
    "3. join():- A join() method is used to block the execution of another code until the thread terminates.\n",
    "4. isAlive():- The isAlive() method checks whether a thread is still executing. '''"
   ]
  },
  {
   "cell_type": "code",
   "execution_count": 3,
   "id": "cc93db36-dc05-44f3-9aac-bf6e7164c264",
   "metadata": {},
   "outputs": [
    {
     "name": "stdout",
     "output_type": "stream",
     "text": [
      " Calculate the square root of the given number\n",
      " Calculate the cube of  the given number\n",
      " Square is :  16\n",
      " Cube is :  64\n",
      " Square is :  25\n",
      " Cube is :  125\n",
      " Square is :  36\n",
      " Cube is :  216\n",
      " Square is :  49\n",
      " Cube is :  343\n",
      " Square is :  4\n",
      " Cube is :  8\n",
      " Total time taking by threads is : 1.503164529800415\n",
      " Again executing the main thread\n",
      " Thread 1 and Thread 2 have finished their execution.\n"
     ]
    }
   ],
   "source": [
    "#Question 4\n",
    "import time \n",
    "import threading  \n",
    "from threading import *  \n",
    "def cal_sqre(num): # define a square calculating function  \n",
    "    print(\" Calculate the square root of the given number\")  \n",
    "    for n in num:# Use for loop   \n",
    "        time.sleep(0.3) # at each iteration it waits for 0.3 time  \n",
    "        print(' Square is : ', n * n)  \n",
    "  \n",
    "def cal_cube(num):# define a cube calculating function  \n",
    "    print(\" Calculate the cube of  the given number\")  \n",
    "    for n in num: # for loop  \n",
    "        time.sleep(0.3) # at each iteration it waits for 0.3 time  \n",
    "        print(\" Cube is : \", n * n *n)  \n",
    "  \n",
    "ar = [4, 5, 6, 7, 2] # given array  \n",
    "  \n",
    "t = time.time() # get total time to execute the functions  \n",
    "#cal_cube(ar)  \n",
    "#cal_sqre(ar)  \n",
    "th1 = threading.Thread(target=cal_sqre, args=(ar, ))  \n",
    "th2 = threading.Thread(target=cal_cube, args=(ar, ))  \n",
    "th1.start()  \n",
    "th2.start()  \n",
    "th1.join()  \n",
    "th2.join()  \n",
    "print(\" Total time taking by threads is :\", time.time() - t) # print the total time  \n",
    "print(\" Again executing the main thread\")  \n",
    "print(\" Thread 1 and Thread 2 have finished their execution.\")  "
   ]
  },
  {
   "cell_type": "code",
   "execution_count": null,
   "id": "be405555-3340-4bef-91a7-84af48f6bb7b",
   "metadata": {},
   "outputs": [],
   "source": [
    "#Question 5\n",
    "'''Advantage of Multithreading\n",
    "(i)Multithreading in Python streamlines the efficient utilization of resources as the threads share the same memory and data space.\n",
    "(ii)It also allows the concurrent appearance of multiple tasks and reduces the response time. This improves the performance.\n",
    "\n",
    "Disadvantage of Multithreading\n",
    "(i)Multithreaded and multicontexted applications are not easy to write.\n",
    "(ii)The task of managing concurrency among threads is difficult and has the potential to introduce new problems into an application."
   ]
  },
  {
   "cell_type": "code",
   "execution_count": null,
   "id": "9f0bea59-7ba5-4332-b6c1-d8b34f4ee5e0",
   "metadata": {},
   "outputs": [],
   "source": [
    "#Question 6\n",
    "'''\n",
    "(i)deadlock:- Two threads hold locks on different resources, each waiting indefinitely for the other to release its lock.\n",
    "(ii)race condition. Two (or more) threads alter the state of a shared resource concurrently, leaving it in an unpredictable state."
   ]
  }
 ],
 "metadata": {
  "kernelspec": {
   "display_name": "Python 3 (ipykernel)",
   "language": "python",
   "name": "python3"
  },
  "language_info": {
   "codemirror_mode": {
    "name": "ipython",
    "version": 3
   },
   "file_extension": ".py",
   "mimetype": "text/x-python",
   "name": "python",
   "nbconvert_exporter": "python",
   "pygments_lexer": "ipython3",
   "version": "3.10.8"
  }
 },
 "nbformat": 4,
 "nbformat_minor": 5
}
