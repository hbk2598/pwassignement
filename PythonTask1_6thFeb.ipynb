{
 "cells": [
  {
   "cell_type": "code",
   "execution_count": 1,
   "id": "46ffc337-8aa9-43a3-a429-7d131f3dd0c1",
   "metadata": {},
   "outputs": [],
   "source": [
    "#Question 1\n",
    "def task1(l):\n",
    "    l1=[]\n",
    "    for i in l:\n",
    "        if type(i)==int:\n",
    "            l1.append(i)\n",
    "        elif type(i)==list:\n",
    "            for j in i:\n",
    "                if type(j)==int:\n",
    "                    l1.append(j)\n",
    "                else:\n",
    "                    pass\n",
    "                    \n",
    "        elif type(i)==bool:\n",
    "            pass\n",
    "        elif type(i)==tuple:\n",
    "            for k in i:\n",
    "                if type(k)==int:\n",
    "                    l1.append(k)\n",
    "                else:\n",
    "                    pass\n",
    "        elif type(i)==set:\n",
    "            for m in i:\n",
    "                if type(m)==int:\n",
    "                    l1.append(m)\n",
    "                else:\n",
    "                    pass\n",
    "        elif type(i)==dict:\n",
    "            key=list(i.keys())\n",
    "            for i in key:\n",
    "                if type(i)==int:\n",
    "                    l1.append(i)\n",
    "                else:\n",
    "                    pass\n",
    "            value=list(i.values())\n",
    "            for i in value:\n",
    "                if type(i)==int:\n",
    "                    l1.append(i)\n",
    "                    \n",
    "                elif type(i)==list:\n",
    "                    for z in i:\n",
    "                        if type(z)==int:\n",
    "                            l1.append(z)\n",
    "                        else:\n",
    "                            pass\n",
    "                elif type(i)==tuple:\n",
    "                    for z in i:\n",
    "                        if type(z)==int:\n",
    "                            l1.append(z)\n",
    "                        else:\n",
    "                            pass\n",
    "    print(l1)\n",
    "    from functools import reduce\n",
    "    print(reduce(lambda x,y:x*y,l1))"
   ]
  },
  {
   "cell_type": "code",
   "execution_count": 2,
   "id": "75e45bac-0987-4b14-bec7-50534cc78beb",
   "metadata": {},
   "outputs": [],
   "source": [
    "l= [1,2,3,4, [44,55,66, True], False, (34,56,78,89,34), {1,2,3,3,2,1}]"
   ]
  },
  {
   "cell_type": "code",
   "execution_count": 3,
   "id": "9a307cbb-1291-408e-936c-0e3580fe81ea",
   "metadata": {},
   "outputs": [
    {
     "name": "stdout",
     "output_type": "stream",
     "text": [
      "[1, 2, 3, 4, 44, 55, 66, 34, 56, 78, 89, 34, 1, 2, 3]\n",
      "10335994368860160\n"
     ]
    }
   ],
   "source": [
    "task1(l)"
   ]
  },
  {
   "cell_type": "code",
   "execution_count": 1,
   "id": "79149bc7-9406-4f2b-bd07-e2dfce207636",
   "metadata": {},
   "outputs": [],
   "source": [
    "#Question 2\n",
    "def encryption(message):\n",
    "    message=message.lower()\n",
    "    encr_map={'a': 'z', 'b': 'y', 'c': 'x', 'd': 'w', 'e': 'v', 'f': 'u',\n",
    "                      'g': 't', 'h': 's', 'i': 'r', 'j': 'q', 'k': 'p', 'l': 'o',\n",
    "                      'm': 'n', 'n': 'm', 'o': 'l', 'p': 'k', 'q': 'j', 'r': 'i',\n",
    "                      's': 'h', 't': 'g', 'u': 'f', 'v': 'e', 'w': 'd', 'x': 'c',\n",
    "                      'y': 'b', 'z': 'a', ' ': '$'}\n",
    "    encr_message=\"\"\n",
    "    for letter in message:\n",
    "        if letter in encr_map:\n",
    "            encr_message=encr_message+encr_map[letter]\n",
    "            \n",
    "        else:\n",
    "            encr_msg=letter\n",
    "    return encr_message"
   ]
  },
  {
   "cell_type": "code",
   "execution_count": 2,
   "id": "1b71b999-c9e0-46d5-8346-2f32bdc17f07",
   "metadata": {},
   "outputs": [
    {
     "data": {
      "text/plain": [
       "'r$dzmg$gl$yvxlnv$z$wzgz$hxrvmgrhg'"
      ]
     },
     "execution_count": 2,
     "metadata": {},
     "output_type": "execute_result"
    }
   ],
   "source": [
    "encryption(\"I want to become a data scientist\")"
   ]
  },
  {
   "cell_type": "code",
   "execution_count": null,
   "id": "6786f341-6559-4152-be05-411323c4be00",
   "metadata": {},
   "outputs": [],
   "source": []
  }
 ],
 "metadata": {
  "kernelspec": {
   "display_name": "Python 3 (ipykernel)",
   "language": "python",
   "name": "python3"
  },
  "language_info": {
   "codemirror_mode": {
    "name": "ipython",
    "version": 3
   },
   "file_extension": ".py",
   "mimetype": "text/x-python",
   "name": "python",
   "nbconvert_exporter": "python",
   "pygments_lexer": "ipython3",
   "version": "3.10.8"
  }
 },
 "nbformat": 4,
 "nbformat_minor": 5
}
