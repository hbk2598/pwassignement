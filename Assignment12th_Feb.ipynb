{
 "cells": [
  {
   "cell_type": "code",
   "execution_count": null,
   "id": "808a7cc0-fd86-47f7-9587-317d50cb52c0",
   "metadata": {},
   "outputs": [],
   "source": [
    "#Question 1\n",
    "'''An exception is a condition that interrupts the normal flow of the program.Both errors and exceptions are a type of runtime error. \n",
    "Difference is that the error is a critical issue that a normal application should not catch, while an exception is a condition that a program should catch.''' "
   ]
  },
  {
   "cell_type": "code",
   "execution_count": 1,
   "id": "e7d7d11c-9a98-4f99-a825-4e901c5e4c1e",
   "metadata": {},
   "outputs": [
    {
     "ename": "IndentationError",
     "evalue": "expected an indented block after function definition on line 2 (3962487583.py, line 3)",
     "output_type": "error",
     "traceback": [
      "\u001b[0;36m  Cell \u001b[0;32mIn[1], line 3\u001b[0;36m\u001b[0m\n\u001b[0;31m    return 4+5  #This will give us identation error\u001b[0m\n\u001b[0m    ^\u001b[0m\n\u001b[0;31mIndentationError\u001b[0m\u001b[0;31m:\u001b[0m expected an indented block after function definition on line 2\n"
     ]
    }
   ],
   "source": [
    "#Example error\n",
    "def fun():\n",
    "return 4+5  #This will give us identation error"
   ]
  },
  {
   "cell_type": "code",
   "execution_count": 3,
   "id": "6498b45a-ed1c-46a9-a273-4a399981cb91",
   "metadata": {},
   "outputs": [
    {
     "name": "stdout",
     "output_type": "stream",
     "text": [
      "I am handling zero divison error\n",
      "9\n"
     ]
    }
   ],
   "source": [
    "#Exception example\n",
    "\n",
    "try:\n",
    "    10/0\n",
    "except ZeroDivisionError as e:\n",
    "    print(\"I am handling zero divison error\")\n",
    "print(4+5)"
   ]
  },
  {
   "cell_type": "code",
   "execution_count": null,
   "id": "c8e1176d-1e9c-4e14-b358-bdf162317c82",
   "metadata": {},
   "outputs": [],
   "source": [
    "#Question 2\n",
    "'''When any exception is not handled the program execution will blocked at that line itself all the below codes will not be executed.\n",
    "So it's very important to handle every exception'''"
   ]
  },
  {
   "cell_type": "code",
   "execution_count": 3,
   "id": "45b6909e-a254-4418-bc20-4d9204731f0d",
   "metadata": {},
   "outputs": [
    {
     "ename": "ZeroDivisionError",
     "evalue": "division by zero",
     "output_type": "error",
     "traceback": [
      "\u001b[0;31m---------------------------------------------------------------------------\u001b[0m",
      "\u001b[0;31mZeroDivisionError\u001b[0m                         Traceback (most recent call last)",
      "Cell \u001b[0;32mIn[3], line 3\u001b[0m\n\u001b[1;32m      1\u001b[0m \u001b[38;5;66;03m#Example\u001b[39;00m\n\u001b[1;32m      2\u001b[0m a,b\u001b[38;5;241m=\u001b[39m\u001b[38;5;241m4\u001b[39m,\u001b[38;5;241m5\u001b[39m\n\u001b[0;32m----> 3\u001b[0m \u001b[38;5;28mprint\u001b[39m(\u001b[43ma\u001b[49m\u001b[38;5;241;43m/\u001b[39;49m\u001b[38;5;241;43m0\u001b[39;49m)\n\u001b[1;32m      4\u001b[0m \u001b[38;5;28mprint\u001b[39m(b\u001b[38;5;241m*\u001b[39ma)\n",
      "\u001b[0;31mZeroDivisionError\u001b[0m: division by zero"
     ]
    }
   ],
   "source": [
    "#Example\n",
    "a,b=4,5\n",
    "print(a/0)\n",
    "print(b*a)\n",
    "'''Here first line will throw zero divison error but we didn't include the exception handling so second\n",
    "command will also not execute although it is absolutely correct'''\n",
    "\n",
    "\n",
    "   "
   ]
  },
  {
   "cell_type": "code",
   "execution_count": 6,
   "id": "c6f7f641-739e-4eac-a7bc-a7029704e0d6",
   "metadata": {},
   "outputs": [
    {
     "name": "stdout",
     "output_type": "stream",
     "text": [
      "This may give zero division error\n",
      "20\n"
     ]
    }
   ],
   "source": [
    "try:\n",
    "    \n",
    "    a,b=4,5\n",
    "    print(a/0)\n",
    "except ZeroDivisionError as e:\n",
    "    print(\"This may give zero division error\")\n",
    "    print(b*a)\n",
    "    \n",
    "'''Here although 1st line will throws an error but due to exception handling the next line gets executed'''"
   ]
  },
  {
   "cell_type": "code",
   "execution_count": 7,
   "id": "9a3b8d94-6045-45da-b95f-d9b19f5a4b35",
   "metadata": {},
   "outputs": [
    {
     "name": "stdout",
     "output_type": "stream",
     "text": [
      "You cannot divide a value with zero\n"
     ]
    }
   ],
   "source": [
    "#Question 3\n",
    "'''The most simple way of handling exceptions in Python is by using the `try` and `except` block.'''\n",
    "#Example\n",
    "try:\n",
    "    print(1/0)\n",
    "except ZeroDivisionError:\n",
    "    print(\"You cannot divide a value with zero\")"
   ]
  },
  {
   "cell_type": "code",
   "execution_count": 9,
   "id": "d2c66476-3d07-456d-9f7d-3a5d743740f1",
   "metadata": {},
   "outputs": [
    {
     "name": "stdout",
     "output_type": "stream",
     "text": [
      "0.5\n",
      "we are good to go\n"
     ]
    }
   ],
   "source": [
    "#Question 4\n",
    "#(i) try and else\n",
    "try:\n",
    "    print(1/2)\n",
    "except ZeroDivisionError:\n",
    "    print(\"You cannot divide a value with zero\")\n",
    "else:\n",
    "    print(\"we are good to go\")"
   ]
  },
  {
   "cell_type": "code",
   "execution_count": 10,
   "id": "9140c0d7-239a-4079-85c1-9f88072538db",
   "metadata": {},
   "outputs": [
    {
     "name": "stdout",
     "output_type": "stream",
     "text": [
      "This file does not exist in your system\n",
      "9\n"
     ]
    }
   ],
   "source": [
    "#(ii) finally :- whether except block gets executed or not finally block will always gets executed.\n",
    "try:\n",
    "    with open ('test.txt','r') as f:\n",
    "        test=f.read()\n",
    "except FileNotFoundError as e:\n",
    "    print(\"This file does not exist in your system\")\n",
    "finally:\n",
    "    print(4+5)"
   ]
  },
  {
   "cell_type": "code",
   "execution_count": 2,
   "id": "4be31780-d476-4470-8923-6fb02fff893d",
   "metadata": {},
   "outputs": [],
   "source": [
    "#(iii) raise :- used to raise custom exception\n",
    "\n",
    "class validateage(Exception):\n",
    "    def __init__(self,msg):\n",
    "        self.msg=msg\n",
    "        \n",
    "def validate(age):\n",
    "    if age<0:\n",
    "        raise validateage(\"Age is negative\")\n",
    "    elif age>150:\n",
    "        raise validateage(\"Age is very high\")\n",
    "    else:\n",
    "        raise validateage(\"Age is valid\")\n",
    "        \n",
    "    "
   ]
  },
  {
   "cell_type": "code",
   "execution_count": 4,
   "id": "3438188b-04f4-49b2-b12d-98188aa5192d",
   "metadata": {},
   "outputs": [
    {
     "name": "stdin",
     "output_type": "stream",
     "text": [
      "enter your age 234\n"
     ]
    },
    {
     "name": "stdout",
     "output_type": "stream",
     "text": [
      "Age is very high\n"
     ]
    }
   ],
   "source": [
    "try:\n",
    "    a=int(input(\"enter your age\")) \n",
    "    validate(a)\n",
    "except validateage as e:\n",
    "    print(e)\n"
   ]
  },
  {
   "cell_type": "code",
   "execution_count": 5,
   "id": "06e27a6c-95e0-4c6b-8bdf-053d2201abf0",
   "metadata": {},
   "outputs": [],
   "source": [
    "#Question 5\n",
    "'''The exception which is defined by users by creating a new class that is derived from the built-in Exception class\n",
    "are known as Custom exceptions'''\n",
    "#Example\n",
    "class salarynotinrange(Exception):\n",
    "    def __init__(self,msg):\n",
    "        self.msg=msg\n",
    "        \n",
    "def salary(amount):\n",
    "    if amount<45000:\n",
    "        raise salarynotinrange(\"Amount is less than expected\")\n",
    "        \n",
    "    elif amount>100000:\n",
    "        raise salarynotinrange(\"Amount is more than expected\")\n",
    "        \n",
    "    elif 45000<amount<60000:\n",
    "        raise salarynotinrange(\"Salary is in range\")\n",
    "        \n",
    "    else:\n",
    "        raise salarynotinrange(\"Invalid amount\")"
   ]
  },
  {
   "cell_type": "code",
   "execution_count": 5,
   "id": "045bf069-9b8d-4a61-8068-ebb977ddee1b",
   "metadata": {},
   "outputs": [],
   "source": [
    "#Question 5\n",
    "'''The exception which is defined by users by creating a new class that is derived from the built-in Exception class\n",
    "are known as Custom exceptions'''\n",
    "#Example\n",
    "class salarynotinrange(Exception):\n",
    "    def __init__(self,msg):\n",
    "        self.msg=msg\n",
    "        \n",
    "def salary(amount):\n",
    "    if amount<45000:\n",
    "        raise salarynotinrange(\"Amount is less than expected\")\n",
    "        \n",
    "    elif amount>100000:\n",
    "        raise salarynotinrange(\"Amount is more than expected\")\n",
    "        \n",
    "    elif 45000<amount<60000:\n",
    "        raise salarynotinrange(\"Salary is in range\")\n",
    "        \n",
    "    else:\n",
    "        raise salarynotinrange(\"Invalid amount\")"
   ]
  },
  {
   "cell_type": "code",
   "execution_count": 6,
   "id": "1fa9ff44-053c-4708-93d9-ee75fa2d29f7",
   "metadata": {},
   "outputs": [
    {
     "name": "stdin",
     "output_type": "stream",
     "text": [
      "Enter your salary 50000\n"
     ]
    },
    {
     "name": "stdout",
     "output_type": "stream",
     "text": [
      "Salary is in range\n"
     ]
    }
   ],
   "source": [
    "try:\n",
    "    amount=int(input(\"Enter your salary\"))\n",
    "    salary(amount)\n",
    "except salarynotinrange as e:\n",
    "    print(e)"
   ]
  },
  {
   "cell_type": "code",
   "execution_count": 8,
   "id": "dc0c04b4-8f00-4b69-815d-bb748ced2679",
   "metadata": {},
   "outputs": [
    {
     "name": "stdin",
     "output_type": "stream",
     "text": [
      "Enter a number:  14\n"
     ]
    },
    {
     "name": "stdout",
     "output_type": "stream",
     "text": [
      "Exception occurred: Invalid Age\n"
     ]
    }
   ],
   "source": [
    "#Question 6\n",
    "# define Python user-defined exceptions\n",
    "class InvalidAgeException(Exception):\n",
    "    \"Raised when the input value is less than 18\"\n",
    "    pass\n",
    "\n",
    "# you need to guess this number\n",
    "number = 18\n",
    "\n",
    "try:\n",
    "    input_num = int(input(\"Enter a number: \"))\n",
    "    if input_num < number:\n",
    "        raise InvalidAgeException\n",
    "    else:\n",
    "        print(\"Eligible to Vote\")\n",
    "        \n",
    "except InvalidAgeException:\n",
    "    print(\"Exception occurred: Invalid Age\")"
   ]
  },
  {
   "cell_type": "code",
   "execution_count": null,
   "id": "de795258-c372-4892-812b-dbe2b9a7286f",
   "metadata": {},
   "outputs": [],
   "source": []
  }
 ],
 "metadata": {
  "kernelspec": {
   "display_name": "Python 3 (ipykernel)",
   "language": "python",
   "name": "python3"
  },
  "language_info": {
   "codemirror_mode": {
    "name": "ipython",
    "version": 3
   },
   "file_extension": ".py",
   "mimetype": "text/x-python",
   "name": "python",
   "nbconvert_exporter": "python",
   "pygments_lexer": "ipython3",
   "version": "3.10.8"
  }
 },
 "nbformat": 4,
 "nbformat_minor": 5
}
