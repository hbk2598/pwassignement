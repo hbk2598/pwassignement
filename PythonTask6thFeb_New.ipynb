{
 "cells": [
  {
   "cell_type": "code",
   "execution_count": 3,
   "id": "af0f6e04-f842-4c62-9a93-a6c820391079",
   "metadata": {},
   "outputs": [],
   "source": [
    "def is_integer(x):\n",
    "    return not isinstance(x, bool) and isinstance(x, int)\n",
    "\n",
    "def get_numbers(o):\n",
    "    if isinstance(o, dict):\n",
    "        for k, v in o.items():\n",
    "            if is_integer(k):\n",
    "                yield k\n",
    "            yield from get_numbers(v)\n",
    "    elif isinstance(o, (list, tuple, set)):\n",
    "        for v in o:\n",
    "            if is_integer(v):\n",
    "                yield v\n",
    "            else:\n",
    "                yield from get_numbers(v)\n",
    "    else:\n",
    "        if is_integer(o):\n",
    "            yield o\n",
    "\n",
    "            \n",
    "    "
   ]
  },
  {
   "cell_type": "code",
   "execution_count": 4,
   "id": "93004052-2e17-4678-b1c5-7ece28b63822",
   "metadata": {},
   "outputs": [],
   "source": [
    "list1 = [\n",
    "    1,\n",
    "    2,\n",
    "    3,\n",
    "    4,\n",
    "    [44, 55, 66, True],\n",
    "    False,\n",
    "    (34, 56, 78, 89, 34),\n",
    "    {1, 2, 3, 3, 2, 1},\n",
    "    {1: 34, \"key2\": [55, 67, 78, 89], 4: (45, 22, 61, 34)},\n",
    "    [56, \"data science\"],\n",
    "    \"Machine Learning\",\n",
    "]"
   ]
  },
  {
   "cell_type": "code",
   "execution_count": 14,
   "id": "46a01d96-f98b-460c-a661-6128dd7ad9b8",
   "metadata": {},
   "outputs": [],
   "source": [
    "z=[]\n",
    "z=list(get_numbers(list1))"
   ]
  },
  {
   "cell_type": "code",
   "execution_count": null,
   "id": "e7372804-8390-4aa1-bf4d-69ead330b44b",
   "metadata": {},
   "outputs": [],
   "source": [
    "print(z)\n",
    "    from functools import reduce\n",
    "    print(reduce(lambda x,y:x*y,))"
   ]
  },
  {
   "cell_type": "code",
   "execution_count": 13,
   "id": "77c8b512-f159-4c27-888b-e1956e547d0f",
   "metadata": {},
   "outputs": [
    {
     "data": {
      "text/plain": [
       "[1,\n",
       " 2,\n",
       " 3,\n",
       " 4,\n",
       " 44,\n",
       " 55,\n",
       " 66,\n",
       " 34,\n",
       " 56,\n",
       " 78,\n",
       " 89,\n",
       " 34,\n",
       " 1,\n",
       " 2,\n",
       " 3,\n",
       " 1,\n",
       " 34,\n",
       " 55,\n",
       " 67,\n",
       " 78,\n",
       " 89,\n",
       " 4,\n",
       " 45,\n",
       " 22,\n",
       " 61,\n",
       " 34,\n",
       " 56]"
      ]
     },
     "execution_count": 13,
     "metadata": {},
     "output_type": "execute_result"
    }
   ],
   "source": [
    "x"
   ]
  },
  {
   "cell_type": "code",
   "execution_count": null,
   "id": "55a211d3-a1ca-4869-b3af-a9cc67edc46e",
   "metadata": {},
   "outputs": [],
   "source": []
  },
  {
   "cell_type": "code",
   "execution_count": null,
   "id": "1e1b2cb1-91bd-4d10-a482-c2df07300955",
   "metadata": {},
   "outputs": [],
   "source": []
  }
 ],
 "metadata": {
  "kernelspec": {
   "display_name": "Python 3 (ipykernel)",
   "language": "python",
   "name": "python3"
  },
  "language_info": {
   "codemirror_mode": {
    "name": "ipython",
    "version": 3
   },
   "file_extension": ".py",
   "mimetype": "text/x-python",
   "name": "python",
   "nbconvert_exporter": "python",
   "pygments_lexer": "ipython3",
   "version": "3.10.8"
  }
 },
 "nbformat": 4,
 "nbformat_minor": 5
}
