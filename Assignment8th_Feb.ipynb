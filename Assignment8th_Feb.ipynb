{
 "cells": [
  {
   "cell_type": "code",
   "execution_count": 2,
   "id": "f36f624f-115a-4629-becc-0f7782c3c368",
   "metadata": {},
   "outputs": [
    {
     "name": "stdout",
     "output_type": "stream",
     "text": [
      "Triangle has 3 sides\n",
      "I have 4 sides\n",
      "Pentagon has 5 sides\n",
      "Hexagon has 6 sides\n"
     ]
    }
   ],
   "source": [
    "#Question 1\n",
    "'''Abstraction is used to hide the internal functionality of the function from the users.\n",
    "The users only interact with the basic implementation of the function, but inner working is hidden.'''\n",
    "\n",
    "#Example\n",
    "from abc import ABC  \n",
    "  \n",
    "class Polygon(ABC):   \n",
    "  \n",
    "   # abstract method   \n",
    "   def sides(self):   \n",
    "      pass  \n",
    "  \n",
    "class Triangle(Polygon):   \n",
    "  \n",
    "     \n",
    "   def sides(self):   \n",
    "      print(\"Triangle has 3 sides\")   \n",
    "  \n",
    "class Pentagon(Polygon):   \n",
    "  \n",
    "     \n",
    "   def sides(self):   \n",
    "      print(\"Pentagon has 5 sides\")   \n",
    "  \n",
    "class Hexagon(Polygon):   \n",
    "  \n",
    "   def sides(self):   \n",
    "      print(\"Hexagon has 6 sides\")   \n",
    "  \n",
    "class square(Polygon):   \n",
    "  \n",
    "   def sides(self):   \n",
    "      print(\"I have 4 sides\")   \n",
    "  \n",
    "# Driver code   \n",
    "t = Triangle()   \n",
    "t.sides()   \n",
    "  \n",
    "s = square()   \n",
    "s.sides()   \n",
    "  \n",
    "p = Pentagon()   \n",
    "p.sides()   \n",
    "  \n",
    "k = Hexagon()   \n",
    "k.sides()   "
   ]
  },
  {
   "cell_type": "code",
   "execution_count": null,
   "id": "373cecd4-f8a2-4fdb-bf0b-61313a6243ca",
   "metadata": {},
   "outputs": [],
   "source": [
    "# Question 2 Differnce between Abstraction and Encapsulation are\n",
    "\"\"\" (i)Abstraction is hiding the details and implementation of the code and Encapsulation is hiding the data and controlling the visibility of the code.\n",
    "(ii) Abstraction is a design level process.Encapsulation is an implementation level process.\n",
    "(iii)Abstraction is concerned about what a class instance can do, instead of the implementation of the class.Encapsulation helps in data binding and control over maintaining the transparency of the data.\n",
    "'''\n"
   ]
  },
  {
   "cell_type": "code",
   "execution_count": null,
   "id": "1fdd3e94-0d53-4936-8bf2-c1b01e289ed1",
   "metadata": {},
   "outputs": [],
   "source": [
    "# Question 3\n",
    "''' abc module is used to import abstract method and class '''"
   ]
  },
  {
   "cell_type": "code",
   "execution_count": 1,
   "id": "76e53822-4cf7-4510-b246-0f82ecc3af4b",
   "metadata": {},
   "outputs": [],
   "source": [
    "# Question 4\n",
    "'''Data Abstraction in Python can be achieved through creating abstract classes and inheriting them later.'''\n",
    "from abc import ABC, abstractmethod\n",
    "class MyClass(ABC):\n",
    " @abstractmethod\n",
    " def mymethod(self):\n",
    "  #empty body\n",
    "  pass\n"
   ]
  },
  {
   "cell_type": "code",
   "execution_count": null,
   "id": "082cbeff-1b5d-46cb-bad6-e3fdf4916062",
   "metadata": {},
   "outputs": [],
   "source": [
    "#Question 5\n",
    "'''Abstract classes cannot be instantiated, but they can be subclassed.'''"
   ]
  }
 ],
 "metadata": {
  "kernelspec": {
   "display_name": "Python 3 (ipykernel)",
   "language": "python",
   "name": "python3"
  },
  "language_info": {
   "codemirror_mode": {
    "name": "ipython",
    "version": 3
   },
   "file_extension": ".py",
   "mimetype": "text/x-python",
   "name": "python",
   "nbconvert_exporter": "python",
   "pygments_lexer": "ipython3",
   "version": "3.10.8"
  }
 },
 "nbformat": 4,
 "nbformat_minor": 5
}
