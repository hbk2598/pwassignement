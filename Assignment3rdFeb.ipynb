{
 "cells": [
  {
   "cell_type": "code",
   "execution_count": 1,
   "id": "01eb328d-073f-4749-a11c-289342343e0c",
   "metadata": {},
   "outputs": [],
   "source": [
    "#Question1\n",
    "'''def keyword is used to create function'''\n",
    "def odd_number():\n",
    "    y=[]\n",
    "    x=list(range(0,25))\n",
    "    for i in x:\n",
    "        if i % 2!=0:\n",
    "            y.append(i)\n",
    "    return y\n",
    "    "
   ]
  },
  {
   "cell_type": "code",
   "execution_count": 2,
   "id": "effa03e3-4342-4534-878f-dc93a3b94b3c",
   "metadata": {},
   "outputs": [
    {
     "data": {
      "text/plain": [
       "[1, 3, 5, 7, 9, 11, 13, 15, 17, 19, 21, 23]"
      ]
     },
     "execution_count": 2,
     "metadata": {},
     "output_type": "execute_result"
    }
   ],
   "source": [
    "odd_number()"
   ]
  },
  {
   "cell_type": "code",
   "execution_count": 6,
   "id": "a37fd8aa-279c-4325-83ce-e10fc4678d3d",
   "metadata": {},
   "outputs": [],
   "source": [
    "#Question 2\n",
    "'''*args and *kwargs are used in python so that we can take any number of argument while calling the function.*args take \n",
    "the input in form of tuple whereas **kwargs take the input in form of dictonaries'''\n",
    "\n",
    "#Example sum of givem numbers\n",
    "def sum(*args):\n",
    "    sum=0\n",
    "    for i in args:\n",
    "        sum=sum+i\n",
    "    return sum\n",
    "        \n",
    "    "
   ]
  },
  {
   "cell_type": "code",
   "execution_count": 7,
   "id": "52301c7e-475d-4507-bbdf-170082f9e140",
   "metadata": {},
   "outputs": [
    {
     "data": {
      "text/plain": [
       "15"
      ]
     },
     "execution_count": 7,
     "metadata": {},
     "output_type": "execute_result"
    }
   ],
   "source": [
    "sum(4,5,6)"
   ]
  },
  {
   "cell_type": "code",
   "execution_count": 8,
   "id": "67583bfb-7730-4bda-96be-23f14690bc99",
   "metadata": {},
   "outputs": [],
   "source": [
    "#Example of *kwargs\n",
    "def name(**kwargs):\n",
    "    print(\"Hello\", kwargs[\"fname\"], kwargs[\"mname\"], kwargs[\"lname\"])"
   ]
  },
  {
   "cell_type": "code",
   "execution_count": 10,
   "id": "366d428f-d28d-40a0-8a29-9ead7c30e8c9",
   "metadata": {},
   "outputs": [
    {
     "name": "stdout",
     "output_type": "stream",
     "text": [
      "Hello Hari bansh kumar\n"
     ]
    }
   ],
   "source": [
    "name(fname=\"Hari\",mname=\"bansh\",lname=\"kumar\")"
   ]
  },
  {
   "cell_type": "code",
   "execution_count": 15,
   "id": "38df6e3a-9388-4fca-84d0-fd70894dc1ec",
   "metadata": {},
   "outputs": [
    {
     "name": "stdout",
     "output_type": "stream",
     "text": [
      "2\n",
      "4\n",
      "6\n",
      "8\n",
      "10\n"
     ]
    }
   ],
   "source": [
    "#Question 3\n",
    "'''An iterator is an object that contains a countable number of values.Technically, in Python,an iterator is an object\n",
    "which implements the iterator protocol, which consist of the methods __iter__() and __next__().'''\n",
    "\n",
    "l=[2,4,6,8,10,12,14,16,18,20]\n",
    "myl=iter(l)\n",
    "print(next(myl))\n",
    "print(next(myl))\n",
    "print(next(myl))\n",
    "print(next(myl))\n",
    "print(next(myl))\n",
    "\n"
   ]
  },
  {
   "cell_type": "code",
   "execution_count": 22,
   "id": "516b9b90-8251-4d22-938e-44c95602815f",
   "metadata": {},
   "outputs": [],
   "source": [
    "#Question 4\n",
    "'''In Python, a generator is a function that returns an iterator that produces a sequence of values when iterated over.\n",
    "Generators are useful when we want to produce a large sequence of values, but we don't want to store all of them in memory at once.\n",
    "yield keyword is used to produce a value from the generator.'''\n",
    "\n",
    "def values(n):\n",
    "    i=0\n",
    "    while n>i:\n",
    "        yield i\n",
    "        i=i+1"
   ]
  },
  {
   "cell_type": "code",
   "execution_count": 23,
   "id": "acc33f67-3d76-4aaf-bca1-7dd0bc7bc407",
   "metadata": {},
   "outputs": [
    {
     "name": "stdout",
     "output_type": "stream",
     "text": [
      "0\n",
      "1\n",
      "2\n"
     ]
    }
   ],
   "source": [
    "for i in values(3):\n",
    "    print(i)"
   ]
  },
  {
   "cell_type": "code",
   "execution_count": 1,
   "id": "dc8093e0-a082-4ede-b344-9fe165655332",
   "metadata": {},
   "outputs": [],
   "source": [
    "#Question 5\n",
    "def prime_number():\n",
    "    n=list(range(0,1000))\n",
    "    for i in n:\n",
    "        if i==0 or i==1:\n",
    "            continue\n",
    "        for j in range(2,i//2+1):\n",
    "            #loop from 2 to half of the gievn number\n",
    "            if i%j==0:\n",
    "                break\n",
    "        else:\n",
    "            yield i\n",
    "            \n",
    "            "
   ]
  },
  {
   "cell_type": "code",
   "execution_count": 20,
   "id": "5e8a4de1-6e9c-4c58-89e1-574b8aa8a475",
   "metadata": {},
   "outputs": [],
   "source": [
    "# x=iter(list(prime_number()))\n",
    "# while True:\n",
    "#     item=iter(list(next(x)))\n",
    "#     if len(item)==20:\n",
    "#         break\n",
    "#     print(item)"
   ]
  },
  {
   "cell_type": "code",
   "execution_count": 22,
   "id": "a4b6bc34-61f3-404a-a3f1-f79b00e26cfa",
   "metadata": {},
   "outputs": [
    {
     "name": "stdout",
     "output_type": "stream",
     "text": [
      "2\n",
      "3\n",
      "5\n",
      "7\n",
      "11\n",
      "13\n",
      "17\n",
      "19\n",
      "23\n",
      "29\n",
      "31\n",
      "37\n",
      "41\n",
      "43\n",
      "47\n",
      "53\n",
      "59\n",
      "61\n",
      "67\n",
      "71\n"
     ]
    }
   ],
   "source": [
    "x=iter(list(prime_number()))\n",
    "print(next(x))\n",
    "print(next(x))\n",
    "print(next(x))\n",
    "print(next(x))\n",
    "print(next(x))\n",
    "print(next(x))\n",
    "print(next(x))\n",
    "print(next(x))\n",
    "print(next(x))\n",
    "print(next(x))\n",
    "print(next(x))\n",
    "print(next(x))\n",
    "print(next(x))\n",
    "print(next(x))\n",
    "print(next(x))\n",
    "print(next(x))\n",
    "print(next(x))\n",
    "print(next(x))\n",
    "print(next(x))\n",
    "print(next(x))\n",
    "     \n",
    "    "
   ]
  },
  {
   "cell_type": "code",
   "execution_count": 27,
   "id": "34b48b67-aac2-46b9-b845-0b219f00aff1",
   "metadata": {},
   "outputs": [
    {
     "name": "stdout",
     "output_type": "stream",
     "text": [
      "1\n",
      "2\n",
      "3\n",
      "5\n",
      "8\n",
      "13\n",
      "21\n",
      "34\n",
      "55\n",
      "89\n"
     ]
    }
   ],
   "source": [
    "#Question 6 Fibonnaci series using while loop\n",
    "n=0\n",
    "a,b=0,1\n",
    "\n",
    "while n<10:\n",
    "    c=a+b\n",
    "    a=b\n",
    "    b=c\n",
    "    print(c) \n",
    "    n=n+1\n",
    "    \n"
   ]
  },
  {
   "cell_type": "code",
   "execution_count": 38,
   "id": "3626bf75-1a90-4702-ba66-968bdb0a3daa",
   "metadata": {},
   "outputs": [
    {
     "data": {
      "text/plain": [
       "['p', 'w', 's', 'k', 'i', 'l', 'l', 's']"
      ]
     },
     "execution_count": 38,
     "metadata": {},
     "output_type": "execute_result"
    }
   ],
   "source": [
    "#Question 7\n",
    "s='pwskills'\n",
    "[i for i in s]"
   ]
  },
  {
   "cell_type": "code",
   "execution_count": 60,
   "id": "1d3621ec-748b-4dbe-99ca-1bdc76806588",
   "metadata": {},
   "outputs": [
    {
     "name": "stdin",
     "output_type": "stream",
     "text": [
      "Enter the number 16461\n"
     ]
    },
    {
     "name": "stdout",
     "output_type": "stream",
     "text": [
      "palindrome\n"
     ]
    }
   ],
   "source": [
    "#Question 8 Palindrome string using while loop\n",
    "n=input(\"Enter the string\")\n",
    "n1=n[::-1]\n",
    "if n==n1:\n",
    "    print(\"palindrome\")\n",
    "else:\n",
    "    print(\"not a palindrome\")"
   ]
  },
  {
   "cell_type": "code",
   "execution_count": 61,
   "id": "2e1b2af9-51c1-4393-be42-f19e9b5199af",
   "metadata": {},
   "outputs": [
    {
     "name": "stdin",
     "output_type": "stream",
     "text": [
      "Enter a number: 123321\n"
     ]
    },
    {
     "name": "stdout",
     "output_type": "stream",
     "text": [
      "The number is palindrome!\n"
     ]
    }
   ],
   "source": [
    "#Palindrome number using while loop\n",
    "num=int(input(\"Enter a number:\"))\n",
    "temp=num\n",
    "rev=0\n",
    "while(num>0):\n",
    "    dig=num%10\n",
    "    rev=rev*10+dig\n",
    "    num=num//10\n",
    "if(temp==rev):\n",
    "    print(\"The number is palindrome!\")\n",
    "else:\n",
    "    print(\"Not a palindrome!\")"
   ]
  },
  {
   "cell_type": "code",
   "execution_count": null,
   "id": "bb55d0e2-d441-4c53-9b6f-f3549f1e0b6a",
   "metadata": {},
   "outputs": [],
   "source": []
  }
 ],
 "metadata": {
  "kernelspec": {
   "display_name": "Python 3 (ipykernel)",
   "language": "python",
   "name": "python3"
  },
  "language_info": {
   "codemirror_mode": {
    "name": "ipython",
    "version": 3
   },
   "file_extension": ".py",
   "mimetype": "text/x-python",
   "name": "python",
   "nbconvert_exporter": "python",
   "pygments_lexer": "ipython3",
   "version": "3.10.8"
  }
 },
 "nbformat": 4,
 "nbformat_minor": 5
}
