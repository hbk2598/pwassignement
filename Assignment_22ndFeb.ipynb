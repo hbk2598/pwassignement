{
 "cells": [
  {
   "cell_type": "code",
   "execution_count": 3,
   "id": "f63dddbb-fe34-45b9-8909-2825b1f6eeee",
   "metadata": {},
   "outputs": [
    {
     "name": "stdout",
     "output_type": "stream",
     "text": [
      "0     4\n",
      "1     8\n",
      "2    15\n",
      "3    16\n",
      "4    23\n",
      "5    42\n",
      "dtype: int64\n"
     ]
    }
   ],
   "source": [
    "#Solution1\n",
    "import pandas as pd\n",
    "data=[4, 8, 15, 16, 23, 42]\n",
    "ser=pd.Series(data)\n",
    "print(ser)"
   ]
  },
  {
   "cell_type": "code",
   "execution_count": 4,
   "id": "54544ee3-1a65-4d68-abe0-f7d5ca0f4941",
   "metadata": {},
   "outputs": [
    {
     "name": "stdout",
     "output_type": "stream",
     "text": [
      "0       2\n",
      "1     HBK\n",
      "2       4\n",
      "3    Star\n",
      "4       6\n",
      "5      90\n",
      "6      67\n",
      "7      87\n",
      "8      98\n",
      "9      23\n",
      "dtype: object\n"
     ]
    }
   ],
   "source": [
    "#Solution2\n",
    "var=[2,\"HBK\",4,\"Star\",6,90,67,87,98,23]\n",
    "series=pd.Series(var)\n",
    "print(series)"
   ]
  },
  {
   "cell_type": "code",
   "execution_count": 6,
   "id": "f9bd45dd-0527-4b54-8236-4f54a0f05419",
   "metadata": {},
   "outputs": [
    {
     "name": "stdout",
     "output_type": "stream",
     "text": [
      "     Name  Age  Gender\n",
      "0   Alice   25  Female\n",
      "1     Bob   30    Male\n",
      "2  Claire   27  Female\n"
     ]
    }
   ],
   "source": [
    "#Solution3\n",
    "data={'Name':['Alice','Bob','Claire'],'Age':[25,30,27],'Gender':['Female','Male','Female']}\n",
    "df=pd.DataFrame(data)\n",
    "print(df)"
   ]
  },
  {
   "cell_type": "code",
   "execution_count": null,
   "id": "36d832ce-217f-4c5a-885e-1400eb74d8a8",
   "metadata": {},
   "outputs": [],
   "source": [
    "#Solution4\n",
    "\n",
    "\"\"\"A Dataframe is a two-dimensional data structure, i.e., data is aligned in a tabular fashion in rows and columns.\n",
    "\n",
    "whereas\n",
    "Pandas Series ia s one dimensionl array which can hold data of any type (int,float,object,etc)\n",
    "\n",
    "#Dataframe example\n",
    "Name  Age  Gender\n",
    "0   Alice   25  Female\n",
    "1     Bob   30    Male\n",
    "2  Claire   27  Female\n",
    "\n",
    "#Series Example\n",
    "0       2\n",
    "1     HBK\n",
    "2       4\n",
    "3    Star\n",
    "\"\"\"\n",
    "\n"
   ]
  },
  {
   "cell_type": "code",
   "execution_count": 7,
   "id": "5faf10a5-b45c-4df7-af6a-8ae29d8cafbb",
   "metadata": {},
   "outputs": [
    {
     "name": "stdout",
     "output_type": "stream",
     "text": [
      "     Name  Age  Gender\n",
      "0    King   25  Female\n",
      "1     Bob   30    Male\n",
      "2  Claire   27  Female\n"
     ]
    }
   ],
   "source": [
    "#Solution5\n",
    "'''The common functions which we can use to manipulate data are, Dropping rows or columns from the dataframe'''\n",
    "\n",
    "data1={'Name':['King','Bob','Claire'],'Age':[25,30,27],'Gender':['Female','Male','Female']}\n",
    "df=pd.DataFrame(data1)\n",
    "print(df)"
   ]
  },
  {
   "cell_type": "code",
   "execution_count": 9,
   "id": "e22c2a9e-43d7-45b7-9bb3-a9bb8fe765fb",
   "metadata": {},
   "outputs": [
    {
     "name": "stdout",
     "output_type": "stream",
     "text": [
      "     Name  Gender\n",
      "0    King  Female\n",
      "1     Bob    Male\n",
      "2  Claire  Female\n"
     ]
    }
   ],
   "source": [
    "df=df.drop('Age',axis=1)\n",
    "print(df)"
   ]
  },
  {
   "cell_type": "code",
   "execution_count": null,
   "id": "9a017653-1f51-4e0d-a468-9cbf98e6970b",
   "metadata": {},
   "outputs": [],
   "source": [
    "#Solution6\n",
    "\"\"\"DataFrame and Panel is mutable whereas Series is immutable\"\"\""
   ]
  },
  {
   "cell_type": "code",
   "execution_count": 10,
   "id": "4fd31b28-47d7-4e33-9ab4-262c3ab63f0b",
   "metadata": {},
   "outputs": [
    {
     "name": "stdout",
     "output_type": "stream",
     "text": [
      "       0                1   2\n",
      "0    Hbk    Hbk@gmail.com  25\n",
      "1  Jassi  Jassi@gmail.com  24\n",
      "2  Lotus  Lotus@gmail.com  23\n"
     ]
    }
   ],
   "source": [
    "#Solution7\n",
    "'''By using Concat() we can create dataframe by using multiple series by appending them as a column one by one'''\n",
    "name=pd.Series([\"Hbk\",\"Jassi\",\"Lotus\"])\n",
    "gmail=pd.Series([\"Hbk@gmail.com\",\"Jassi@gmail.com\",\"Lotus@gmail.com\"])\n",
    "age=pd.Series([25,24,23])\n",
    "df=pd.concat([name,gmail,age],axis=1)\n",
    "print(df)"
   ]
  },
  {
   "cell_type": "code",
   "execution_count": 11,
   "id": "7c12d2a4-ab0b-4017-b26e-ec63b0a66fda",
   "metadata": {},
   "outputs": [
    {
     "data": {
      "text/plain": [
       "pandas.core.frame.DataFrame"
      ]
     },
     "execution_count": 11,
     "metadata": {},
     "output_type": "execute_result"
    }
   ],
   "source": [
    "type(df)"
   ]
  },
  {
   "cell_type": "code",
   "execution_count": null,
   "id": "3d08029e-2433-4897-9e94-a518a3186ed4",
   "metadata": {},
   "outputs": [],
   "source": []
  }
 ],
 "metadata": {
  "kernelspec": {
   "display_name": "Python 3 (ipykernel)",
   "language": "python",
   "name": "python3"
  },
  "language_info": {
   "codemirror_mode": {
    "name": "ipython",
    "version": 3
   },
   "file_extension": ".py",
   "mimetype": "text/x-python",
   "name": "python",
   "nbconvert_exporter": "python",
   "pygments_lexer": "ipython3",
   "version": "3.10.8"
  }
 },
 "nbformat": 4,
 "nbformat_minor": 5
}
